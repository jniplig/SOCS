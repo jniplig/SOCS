{
  "nbformat": 4,
  "nbformat_minor": 0,
  "metadata": {
    "colab": {
      "provenance": [],
      "mount_file_id": "1L-L50VgWnSmnHXdeFZp9zcGAsOPiRz4L",
      "authorship_tag": "ABX9TyO2+mEJKsd4ZUrHhmv84FX+",
      "include_colab_link": true
    },
    "kernelspec": {
      "name": "python3",
      "display_name": "Python 3"
    },
    "language_info": {
      "name": "python"
    }
  },
  "cells": [
    {
      "cell_type": "markdown",
      "metadata": {
        "id": "view-in-github",
        "colab_type": "text"
      },
      "source": [
        "<a href=\"https://colab.research.google.com/github/jniplig/SOCS/blob/main/SOCS_DATA.ipynb\" target=\"_parent\"><img src=\"https://colab.research.google.com/assets/colab-badge.svg\" alt=\"Open In Colab\"/></a>"
      ]
    },
    {
      "cell_type": "code",
      "execution_count": null,
      "metadata": {
        "colab": {
          "base_uri": "https://localhost:8080/"
        },
        "id": "QRcftDxPSlv_",
        "outputId": "2b42b16b-b492-401e-d8d3-cbf90f4af37f"
      },
      "outputs": [
        {
          "output_type": "stream",
          "name": "stdout",
          "text": [
            "Requirement already satisfied: requests in /usr/local/lib/python3.10/dist-packages (2.32.3)\n",
            "Requirement already satisfied: charset-normalizer<4,>=2 in /usr/local/lib/python3.10/dist-packages (from requests) (3.4.0)\n",
            "Requirement already satisfied: idna<4,>=2.5 in /usr/local/lib/python3.10/dist-packages (from requests) (3.10)\n",
            "Requirement already satisfied: urllib3<3,>=1.21.1 in /usr/local/lib/python3.10/dist-packages (from requests) (2.2.3)\n",
            "Requirement already satisfied: certifi>=2017.4.17 in /usr/local/lib/python3.10/dist-packages (from requests) (2024.8.30)\n"
          ]
        }
      ],
      "source": [
        "!pip install requests\n",
        "\n"
      ]
    },
    {
      "cell_type": "code",
      "source": [
        "import requests\n",
        "from xml.etree.ElementTree import Element, SubElement, tostring, ElementTree\n",
        "from datetime import datetime\n",
        "\n",
        "# Define the base URL and a single test date\n",
        "base_url = \"https://www.schoolssports.com/school/xml/mso-sport.ashx?ID=28488&key=88E70399-79A6-4966-AB47-C6E645AE1110&data=fixtures&startdate={startdate}&enddate={enddate}&TS=1\"\n",
        "test_date = datetime.strptime(\"26 Sep 2024\", \"%d %b %Y\")\n",
        "\n",
        "# Format the date for the URL\n",
        "formatted_date = test_date.strftime(\"%d %b %Y\")\n",
        "url = base_url.format(startdate=formatted_date, enddate=formatted_date)\n",
        "\n",
        "# Create the root of the consolidated XML\n",
        "root = Element(\"ConsolidatedFixtures\")\n",
        "\n",
        "try:\n",
        "    # Fetch XML data from the link\n",
        "    response = requests.get(url)\n",
        "    response.raise_for_status()  # Raise an error for HTTP issues\n",
        "\n",
        "    # Parse the fetched XML and append it to the root\n",
        "    fetched_data = ElementTree(Element(\"Temp\"))\n",
        "    fetched_data._setroot(ElementTree.fromstring(response.content).getroot())\n",
        "    for child in fetched_data.getroot():\n",
        "        root.append(child)\n",
        "\n",
        "    print(f\"Successfully fetched data for {formatted_date}\")\n",
        "\n",
        "except Exception as e:\n",
        "    print(f\"Failed to fetch data for {formatted_date}: {e}\")\n",
        "\n",
        "# Save the consolidated XML to a file\n",
        "consolidated_file_path = \"consolidated_fixtures_test.xml\"\n",
        "with open(consolidated_file_path, \"wb\") as file:\n",
        "    ElementTree(root).write(file, encoding=\"utf-8\", xml_declaration=True)\n",
        "\n",
        "print(f\"Consolidated XML saved to {consolidated_file_path}\")\n"
      ],
      "metadata": {
        "colab": {
          "base_uri": "https://localhost:8080/"
        },
        "id": "OA7n7qTgS4d4",
        "outputId": "a14759d5-286a-4708-fb7f-37feb10878be"
      },
      "execution_count": null,
      "outputs": [
        {
          "output_type": "stream",
          "name": "stdout",
          "text": [
            "Failed to fetch data for 26 Sep 2024: type object 'ElementTree' has no attribute 'fromstring'\n",
            "Consolidated XML saved to consolidated_fixtures_test.xml\n"
          ]
        }
      ]
    },
    {
      "cell_type": "code",
      "source": [
        "import requests\n",
        "from xml.etree.ElementTree import Element, fromstring, ElementTree\n",
        "from datetime import datetime\n",
        "\n",
        "# Define the base URL and a single test date\n",
        "base_url = \"https://www.schoolssports.com/school/xml/mso-sport.ashx?ID=28488&key=88E70399-79A6-4966-AB47-C6E645AE1110&data=fixtures&startdate={startdate}&enddate={enddate}&TS=1\"\n",
        "test_date = datetime.strptime(\"26 Sep 2024\", \"%d %b %Y\")\n",
        "\n",
        "# Format the date for the URL\n",
        "formatted_date = test_date.strftime(\"%d %b %Y\")\n",
        "url = base_url.format(startdate=formatted_date, enddate=formatted_date)\n",
        "\n",
        "# Create the root of the consolidated XML\n",
        "root = Element(\"ConsolidatedFixtures\")\n",
        "\n",
        "try:\n",
        "    # Fetch XML data from the link\n",
        "    response = requests.get(url)\n",
        "    response.raise_for_status()  # Raise an error for HTTP issues\n",
        "\n",
        "    # Parse the fetched XML and append it to the root\n",
        "    fetched_data = fromstring(response.content)\n",
        "    for child in fetched_data:\n",
        "        root.append(child)\n",
        "\n",
        "    print(f\"Successfully fetched data for {formatted_date}\")\n",
        "\n",
        "except Exception as e:\n",
        "    print(f\"Failed to fetch data for {formatted_date}: {e}\")\n",
        "\n",
        "# Save the consolidated XML to a file\n",
        "consolidated_file_path = \"consolidated_fixtures_test.xml\"\n",
        "with open(consolidated_file_path, \"wb\") as file:\n",
        "    ElementTree(root).write(file, encoding=\"utf-8\", xml_declaration=True)\n",
        "\n",
        "print(f\"Consolidated XML saved to {consolidated_file_path}\")"
      ],
      "metadata": {
        "colab": {
          "base_uri": "https://localhost:8080/"
        },
        "id": "Rghu4b3BTJid",
        "outputId": "071c3c87-038c-49fc-e460-e9b9cd7971b4"
      },
      "execution_count": null,
      "outputs": [
        {
          "output_type": "stream",
          "name": "stdout",
          "text": [
            "Successfully fetched data for 26 Sep 2024\n",
            "Consolidated XML saved to consolidated_fixtures_test.xml\n"
          ]
        }
      ]
    },
    {
      "cell_type": "code",
      "source": [
        "import requests\n",
        "from xml.etree.ElementTree import Element, fromstring, ElementTree\n",
        "from datetime import datetime, timedelta\n",
        "\n",
        "# Define the base URL and date range\n",
        "base_url = \"https://www.schoolssports.com/school/xml/mso-sport.ashx?ID=28488&key=88E70399-79A6-4966-AB47-C6E645AE1110&data=fixtures&startdate={startdate}&enddate={enddate}&TS=1\"\n",
        "start_date = datetime.strptime(\"26 Sep 2024\", \"%d %b %Y\")\n",
        "end_date = datetime.strptime(\"12 Dec 2024\", \"%d %b %Y\")\n",
        "\n",
        "# Create the root of the consolidated XML\n",
        "root = Element(\"ConsolidatedFixtures\")\n",
        "\n",
        "# Iterate through the date range and fetch XML data\n",
        "current_date = start_date\n",
        "while current_date <= end_date:\n",
        "    formatted_date = current_date.strftime(\"%d %b %Y\")\n",
        "    url = base_url.format(startdate=formatted_date, enddate=formatted_date)\n",
        "\n",
        "    try:\n",
        "        # Fetch XML data from the link\n",
        "        response = requests.get(url)\n",
        "        response.raise_for_status()  # Raise an error for HTTP issues\n",
        "\n",
        "        # Parse the fetched XML and append it to the root\n",
        "        fetched_data = fromstring(response.content)\n",
        "        for child in fetched_data:\n",
        "            root.append(child)\n",
        "\n",
        "        print(f\"Successfully fetched data for {formatted_date}\")\n",
        "\n",
        "    except Exception as e:\n",
        "        print(f\"Failed to fetch data for {formatted_date}: {e}\")\n",
        "\n",
        "    current_date += timedelta(days=1)\n",
        "\n",
        "# Save the consolidated XML to a file\n",
        "consolidated_file_path = \"consolidated_fixtures.xml\"\n",
        "with open(consolidated_file_path, \"wb\") as file:\n",
        "    ElementTree(root).write(file, encoding=\"utf-8\", xml_declaration=True)\n",
        "\n",
        "print(f\"Consolidated XML saved to {consolidated_file_path}\")\n"
      ],
      "metadata": {
        "colab": {
          "base_uri": "https://localhost:8080/"
        },
        "id": "Xpu7_smnTkoQ",
        "outputId": "06f26876-5936-418b-8771-6c0df70167fc"
      },
      "execution_count": 6,
      "outputs": [
        {
          "output_type": "stream",
          "name": "stdout",
          "text": [
            "Successfully fetched data for 26 Sep 2024\n",
            "Successfully fetched data for 27 Sep 2024\n",
            "Successfully fetched data for 28 Sep 2024\n",
            "Successfully fetched data for 29 Sep 2024\n",
            "Successfully fetched data for 30 Sep 2024\n",
            "Successfully fetched data for 01 Oct 2024\n",
            "Successfully fetched data for 02 Oct 2024\n",
            "Successfully fetched data for 03 Oct 2024\n",
            "Successfully fetched data for 04 Oct 2024\n",
            "Successfully fetched data for 05 Oct 2024\n",
            "Successfully fetched data for 06 Oct 2024\n",
            "Successfully fetched data for 07 Oct 2024\n",
            "Successfully fetched data for 08 Oct 2024\n",
            "Successfully fetched data for 09 Oct 2024\n",
            "Successfully fetched data for 10 Oct 2024\n",
            "Successfully fetched data for 11 Oct 2024\n",
            "Successfully fetched data for 12 Oct 2024\n",
            "Successfully fetched data for 13 Oct 2024\n",
            "Successfully fetched data for 14 Oct 2024\n",
            "Successfully fetched data for 15 Oct 2024\n",
            "Successfully fetched data for 16 Oct 2024\n",
            "Successfully fetched data for 17 Oct 2024\n",
            "Successfully fetched data for 18 Oct 2024\n",
            "Successfully fetched data for 19 Oct 2024\n",
            "Successfully fetched data for 20 Oct 2024\n",
            "Successfully fetched data for 21 Oct 2024\n",
            "Successfully fetched data for 22 Oct 2024\n",
            "Successfully fetched data for 23 Oct 2024\n",
            "Successfully fetched data for 24 Oct 2024\n",
            "Successfully fetched data for 25 Oct 2024\n",
            "Successfully fetched data for 26 Oct 2024\n",
            "Successfully fetched data for 27 Oct 2024\n",
            "Successfully fetched data for 28 Oct 2024\n",
            "Successfully fetched data for 29 Oct 2024\n",
            "Successfully fetched data for 30 Oct 2024\n",
            "Successfully fetched data for 31 Oct 2024\n",
            "Successfully fetched data for 01 Nov 2024\n",
            "Successfully fetched data for 02 Nov 2024\n",
            "Successfully fetched data for 03 Nov 2024\n",
            "Successfully fetched data for 04 Nov 2024\n",
            "Successfully fetched data for 05 Nov 2024\n",
            "Successfully fetched data for 06 Nov 2024\n",
            "Successfully fetched data for 07 Nov 2024\n",
            "Successfully fetched data for 08 Nov 2024\n",
            "Successfully fetched data for 09 Nov 2024\n",
            "Successfully fetched data for 10 Nov 2024\n",
            "Successfully fetched data for 11 Nov 2024\n",
            "Successfully fetched data for 12 Nov 2024\n",
            "Successfully fetched data for 13 Nov 2024\n",
            "Successfully fetched data for 14 Nov 2024\n",
            "Successfully fetched data for 15 Nov 2024\n",
            "Successfully fetched data for 16 Nov 2024\n",
            "Successfully fetched data for 17 Nov 2024\n",
            "Successfully fetched data for 18 Nov 2024\n",
            "Successfully fetched data for 19 Nov 2024\n",
            "Successfully fetched data for 20 Nov 2024\n",
            "Successfully fetched data for 21 Nov 2024\n",
            "Successfully fetched data for 22 Nov 2024\n",
            "Successfully fetched data for 23 Nov 2024\n",
            "Successfully fetched data for 24 Nov 2024\n",
            "Successfully fetched data for 25 Nov 2024\n",
            "Successfully fetched data for 26 Nov 2024\n",
            "Successfully fetched data for 27 Nov 2024\n",
            "Successfully fetched data for 28 Nov 2024\n",
            "Successfully fetched data for 29 Nov 2024\n",
            "Successfully fetched data for 30 Nov 2024\n",
            "Successfully fetched data for 01 Dec 2024\n",
            "Successfully fetched data for 02 Dec 2024\n",
            "Successfully fetched data for 03 Dec 2024\n",
            "Successfully fetched data for 04 Dec 2024\n",
            "Successfully fetched data for 05 Dec 2024\n",
            "Successfully fetched data for 06 Dec 2024\n",
            "Successfully fetched data for 07 Dec 2024\n",
            "Successfully fetched data for 08 Dec 2024\n",
            "Successfully fetched data for 09 Dec 2024\n",
            "Successfully fetched data for 10 Dec 2024\n",
            "Successfully fetched data for 11 Dec 2024\n",
            "Successfully fetched data for 12 Dec 2024\n",
            "Consolidated XML saved to consolidated_fixtures.xml\n"
          ]
        }
      ]
    }
  ]
}